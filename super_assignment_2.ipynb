{
  "cells": [
    {
      "cell_type": "markdown",
      "metadata": {
        "id": "view-in-github",
        "colab_type": "text"
      },
      "source": [
        "<a href=\"https://colab.research.google.com/github/Abdelrahman-Wael-1029/Supervised_assignments/blob/main/super_assignment_2.ipynb\" target=\"_parent\"><img src=\"https://colab.research.google.com/assets/colab-badge.svg\" alt=\"Open In Colab\"/></a>"
      ]
    },
    {
      "cell_type": "markdown",
      "metadata": {
        "id": "ND81cMDm6D93"
      },
      "source": [
        "# part 1"
      ]
    },
    {
      "cell_type": "code",
      "execution_count": 57,
      "metadata": {
        "id": "s4EQwjmTtQwc"
      },
      "outputs": [],
      "source": [
        "import numpy as np\n",
        "import matplotlib.pyplot as plt"
      ]
    },
    {
      "cell_type": "code",
      "execution_count": null,
      "metadata": {
        "colab": {
          "base_uri": "https://localhost:8080/"
        },
        "id": "GreFZ7QetW4Q",
        "outputId": "2d0479c4-b498-46bb-f348-311947772855"
      },
      "outputs": [
        {
          "data": {
            "text/plain": [
              "array([-3., -1.,  1.,  3.,  5.])"
            ]
          },
          "execution_count": 18,
          "metadata": {},
          "output_type": "execute_result"
        }
      ],
      "source": [
        "# define w\n",
        "W= np.array([2, 1])\n",
        "# choise random number\n",
        "X = np.array([-2, -1, 0, 1, 2])\n",
        "X_b = np.ones((5 , 2))\n",
        "X_b[:,0] = X\n",
        "\n",
        "y = np.dot(X_b, W) # any linear equation of one variable(e.g. Y=WX+C)\n",
        "y"
      ]
    },
    {
      "cell_type": "code",
      "execution_count": null,
      "metadata": {
        "id": "e3oSm_6l1ZUG"
      },
      "outputs": [],
      "source": [
        "# Utility function to apply MSSE and find the best fit line\n",
        "def find_best_fit(X, Y):\n",
        "    # Applying the normal equation\n",
        "    best_fit = np.linalg.inv(X.T.dot(X)).dot(X.T).dot(Y)\n",
        "    return best_fit  # Returning W"
      ]
    },
    {
      "cell_type": "code",
      "execution_count": null,
      "metadata": {
        "colab": {
          "base_uri": "https://localhost:8080/"
        },
        "id": "ljbop6DJ2MZ-",
        "outputId": "adf27eab-7977-410e-f8f9-afa373f681b4"
      },
      "outputs": [
        {
          "data": {
            "text/plain": [
              "array([2., 1.])"
            ]
          },
          "execution_count": 20,
          "metadata": {},
          "output_type": "execute_result"
        }
      ],
      "source": [
        "# Step 3: Apply MSSE to find the best fit line\n",
        "W_estimated = find_best_fit(X_b, y)\n",
        "W_estimated"
      ]
    },
    {
      "cell_type": "code",
      "execution_count": null,
      "metadata": {
        "colab": {
          "base_uri": "https://localhost:8080/",
          "height": 466
        },
        "id": "rnq8mK_E2ehm",
        "outputId": "be276257-300d-4af0-ec86-fc69c9dbcd3a"
      },
      "outputs": [
        {
          "data": {
            "text/plain": [
              "<matplotlib.legend.Legend at 0x7c122416d420>"
            ]
          },
          "execution_count": 21,
          "metadata": {},
          "output_type": "execute_result"
        },
        {
          "data": {
            "image/png": "[encoded data removed]",
            "text/plain": [
              "<Figure size 640x480 with 1 Axes>"
            ]
          },
          "metadata": {},
          "output_type": "display_data"
        }
      ],
      "source": [
        "# Step 4: Visualizing the original and estimated equations\n",
        "plt.scatter(X, y, color='blue', label='Original data')\n",
        "plt.plot(X, np.dot(X_b,W), label='Original line', linestyle='--', color='green')\n",
        "plt.plot(X, np.dot(X_b,W_estimated), label='Estimated line', color='red')\n",
        "plt.xlabel('X')\n",
        "plt.ylabel('Y')\n",
        "plt.legend()"
      ]
    },
    {
      "cell_type": "code",
      "execution_count": null,
      "metadata": {
        "id": "aeNj5R2yGudn"
      },
      "outputs": [],
      "source": [
        "def evaluate(y_pred):\n",
        "  y_pred[y_pred >= 0] = 1\n",
        "  y_pred[y_pred < 0] = -1\n",
        "  return y_pred\n"
      ]
    },
    {
      "cell_type": "code",
      "execution_count": null,
      "metadata": {
        "colab": {
          "base_uri": "https://localhost:8080/"
        },
        "id": "vwcFYZw8Gsy_",
        "outputId": "ab9aa2ea-a099-4ed3-962b-6dce27daed50"
      },
      "outputs": [
        {
          "data": {
            "text/plain": [
              "(array([-1., -1.,  1.,  1.,  1.]), array([-3., -1.,  1.,  3.,  5.]))"
            ]
          },
          "execution_count": 23,
          "metadata": {},
          "output_type": "execute_result"
        }
      ],
      "source": [
        "evaluate(np.dot(X_b,W_estimated)),np.dot(X_b,W_estimated)"
      ]
    },
    {
      "cell_type": "code",
      "execution_count": null,
      "metadata": {
        "colab": {
          "base_uri": "https://localhost:8080/"
        },
        "id": "wFIc_4cB2kTO",
        "outputId": "447c21c9-d3e4-44fb-c6b9-9812a52ed9ec"
      },
      "outputs": [
        {
          "data": {
            "text/plain": [
              "array([2.3424734 , 0.95089625])"
            ]
          },
          "execution_count": 24,
          "metadata": {},
          "output_type": "execute_result"
        }
      ],
      "source": [
        "# Step 5: Repeat with noise\n",
        "y_noisy = y + np.random.normal(0, 1, 5)  # Adding some noise\n",
        "W_estimated_noisy= find_best_fit(X_b, y_noisy)\n",
        "\n",
        "W_estimated_noisy"
      ]
    },
    {
      "cell_type": "code",
      "execution_count": null,
      "metadata": {
        "colab": {
          "base_uri": "https://localhost:8080/",
          "height": 468
        },
        "id": "uuLfzNYRvsTl",
        "outputId": "aaf6ccdb-7f29-4b46-9301-1b57c0c24bc0"
      },
      "outputs": [
        {
          "data": {
            "text/plain": [
              "<matplotlib.legend.Legend at 0x7c122419b130>"
            ]
          },
          "execution_count": 25,
          "metadata": {},
          "output_type": "execute_result"
        },
        {
          "data": {
            "image/png": "[encoded data removed]",
            "text/plain": [
              "<Figure size 640x480 with 1 Axes>"
            ]
          },
          "metadata": {},
          "output_type": "display_data"
        }
      ],
      "source": [
        "\n",
        "plt.scatter(X, y_noisy, color='blue', label='Noisy data')\n",
        "plt.plot(X, np.dot(X_b, W), label='Original line', linestyle='--', color='green')\n",
        "plt.plot(X, np.dot(X_b, W_estimated_noisy), label='Estimated line with noise', color='red')\n",
        "plt.xlabel('X')\n",
        "plt.ylabel('Y')\n",
        "plt.legend()\n"
      ]
    },
    {
      "cell_type": "code",
      "execution_count": null,
      "metadata": {
        "colab": {
          "base_uri": "https://localhost:8080/"
        },
        "id": "JSg-kyG_Egmp",
        "outputId": "0e679ebc-f350-4276-e00b-83e13cbf6951"
      },
      "outputs": [
        {
          "data": {
            "text/plain": [
              "(array([-1., -1.,  1.,  1.,  1.]),\n",
              " array([-3.73405056, -1.39157715,  0.95089625,  3.29336965,  5.63584305]))"
            ]
          },
          "execution_count": 26,
          "metadata": {},
          "output_type": "execute_result"
        }
      ],
      "source": [
        "evaluate(np.dot(X_b,W_estimated_noisy)), np.dot(X_b,W_estimated_noisy)"
      ]
    },
    {
      "cell_type": "markdown",
      "metadata": {
        "id": "zkbVtDlY6G0Q"
      },
      "source": [
        "# part 2"
      ]
    },
    {
      "cell_type": "code",
      "execution_count": 58,
      "metadata": {
        "colab": {
          "base_uri": "https://localhost:8080/"
        },
        "id": "_17C51lPzLzi",
        "outputId": "c11bf4b0-5bd5-4f29-c758-222bbfe842c4"
      },
      "outputs": [
        {
          "output_type": "execute_result",
          "data": {
            "text/plain": [
              "((150, 4), (150,))"
            ]
          },
          "metadata": {},
          "execution_count": 58
        }
      ],
      "source": [
        "from sklearn import datasets\n",
        "\n",
        "iris = datasets.load_iris()\n",
        "\n",
        "X = iris.data\n",
        "y = iris.target\n",
        "X.shape, y.shape"
      ]
    },
    {
      "cell_type": "code",
      "execution_count": 59,
      "metadata": {
        "colab": {
          "base_uri": "https://localhost:8080/"
        },
        "id": "truoGh2P7ju4",
        "outputId": "1c954436-a4da-4c07-a7a6-849750c46965"
      },
      "outputs": [
        {
          "output_type": "execute_result",
          "data": {
            "text/plain": [
              "array([[5.1, 3.5, 1.4, 0.2, 1. ],\n",
              "       [4.9, 3. , 1.4, 0.2, 1. ],\n",
              "       [4.7, 3.2, 1.3, 0.2, 1. ],\n",
              "       [4.6, 3.1, 1.5, 0.2, 1. ],\n",
              "       [5. , 3.6, 1.4, 0.2, 1. ],\n",
              "       [5.4, 3.9, 1.7, 0.4, 1. ],\n",
              "       [4.6, 3.4, 1.4, 0.3, 1. ],\n",
              "       [5. , 3.4, 1.5, 0.2, 1. ],\n",
              "       [4.4, 2.9, 1.4, 0.2, 1. ],\n",
              "       [4.9, 3.1, 1.5, 0.1, 1. ],\n",
              "       [5.4, 3.7, 1.5, 0.2, 1. ],\n",
              "       [4.8, 3.4, 1.6, 0.2, 1. ],\n",
              "       [4.8, 3. , 1.4, 0.1, 1. ],\n",
              "       [4.3, 3. , 1.1, 0.1, 1. ],\n",
              "       [5.8, 4. , 1.2, 0.2, 1. ],\n",
              "       [5.7, 4.4, 1.5, 0.4, 1. ],\n",
              "       [5.4, 3.9, 1.3, 0.4, 1. ],\n",
              "       [5.1, 3.5, 1.4, 0.3, 1. ],\n",
              "       [5.7, 3.8, 1.7, 0.3, 1. ],\n",
              "       [5.1, 3.8, 1.5, 0.3, 1. ],\n",
              "       [5.4, 3.4, 1.7, 0.2, 1. ],\n",
              "       [5.1, 3.7, 1.5, 0.4, 1. ],\n",
              "       [4.6, 3.6, 1. , 0.2, 1. ],\n",
              "       [5.1, 3.3, 1.7, 0.5, 1. ],\n",
              "       [4.8, 3.4, 1.9, 0.2, 1. ],\n",
              "       [5. , 3. , 1.6, 0.2, 1. ],\n",
              "       [5. , 3.4, 1.6, 0.4, 1. ],\n",
              "       [5.2, 3.5, 1.5, 0.2, 1. ],\n",
              "       [5.2, 3.4, 1.4, 0.2, 1. ],\n",
              "       [4.7, 3.2, 1.6, 0.2, 1. ],\n",
              "       [4.8, 3.1, 1.6, 0.2, 1. ],\n",
              "       [5.4, 3.4, 1.5, 0.4, 1. ],\n",
              "       [5.2, 4.1, 1.5, 0.1, 1. ],\n",
              "       [5.5, 4.2, 1.4, 0.2, 1. ],\n",
              "       [4.9, 3.1, 1.5, 0.2, 1. ],\n",
              "       [5. , 3.2, 1.2, 0.2, 1. ],\n",
              "       [5.5, 3.5, 1.3, 0.2, 1. ],\n",
              "       [4.9, 3.6, 1.4, 0.1, 1. ],\n",
              "       [4.4, 3. , 1.3, 0.2, 1. ],\n",
              "       [5.1, 3.4, 1.5, 0.2, 1. ],\n",
              "       [5. , 3.5, 1.3, 0.3, 1. ],\n",
              "       [4.5, 2.3, 1.3, 0.3, 1. ],\n",
              "       [4.4, 3.2, 1.3, 0.2, 1. ],\n",
              "       [5. , 3.5, 1.6, 0.6, 1. ],\n",
              "       [5.1, 3.8, 1.9, 0.4, 1. ],\n",
              "       [4.8, 3. , 1.4, 0.3, 1. ],\n",
              "       [5.1, 3.8, 1.6, 0.2, 1. ],\n",
              "       [4.6, 3.2, 1.4, 0.2, 1. ],\n",
              "       [5.3, 3.7, 1.5, 0.2, 1. ],\n",
              "       [5. , 3.3, 1.4, 0.2, 1. ],\n",
              "       [7. , 3.2, 4.7, 1.4, 1. ],\n",
              "       [6.4, 3.2, 4.5, 1.5, 1. ],\n",
              "       [6.9, 3.1, 4.9, 1.5, 1. ],\n",
              "       [5.5, 2.3, 4. , 1.3, 1. ],\n",
              "       [6.5, 2.8, 4.6, 1.5, 1. ],\n",
              "       [5.7, 2.8, 4.5, 1.3, 1. ],\n",
              "       [6.3, 3.3, 4.7, 1.6, 1. ],\n",
              "       [4.9, 2.4, 3.3, 1. , 1. ],\n",
              "       [6.6, 2.9, 4.6, 1.3, 1. ],\n",
              "       [5.2, 2.7, 3.9, 1.4, 1. ],\n",
              "       [5. , 2. , 3.5, 1. , 1. ],\n",
              "       [5.9, 3. , 4.2, 1.5, 1. ],\n",
              "       [6. , 2.2, 4. , 1. , 1. ],\n",
              "       [6.1, 2.9, 4.7, 1.4, 1. ],\n",
              "       [5.6, 2.9, 3.6, 1.3, 1. ],\n",
              "       [6.7, 3.1, 4.4, 1.4, 1. ],\n",
              "       [5.6, 3. , 4.5, 1.5, 1. ],\n",
              "       [5.8, 2.7, 4.1, 1. , 1. ],\n",
              "       [6.2, 2.2, 4.5, 1.5, 1. ],\n",
              "       [5.6, 2.5, 3.9, 1.1, 1. ],\n",
              "       [5.9, 3.2, 4.8, 1.8, 1. ],\n",
              "       [6.1, 2.8, 4. , 1.3, 1. ],\n",
              "       [6.3, 2.5, 4.9, 1.5, 1. ],\n",
              "       [6.1, 2.8, 4.7, 1.2, 1. ],\n",
              "       [6.4, 2.9, 4.3, 1.3, 1. ],\n",
              "       [6.6, 3. , 4.4, 1.4, 1. ],\n",
              "       [6.8, 2.8, 4.8, 1.4, 1. ],\n",
              "       [6.7, 3. , 5. , 1.7, 1. ],\n",
              "       [6. , 2.9, 4.5, 1.5, 1. ],\n",
              "       [5.7, 2.6, 3.5, 1. , 1. ],\n",
              "       [5.5, 2.4, 3.8, 1.1, 1. ],\n",
              "       [5.5, 2.4, 3.7, 1. , 1. ],\n",
              "       [5.8, 2.7, 3.9, 1.2, 1. ],\n",
              "       [6. , 2.7, 5.1, 1.6, 1. ],\n",
              "       [5.4, 3. , 4.5, 1.5, 1. ],\n",
              "       [6. , 3.4, 4.5, 1.6, 1. ],\n",
              "       [6.7, 3.1, 4.7, 1.5, 1. ],\n",
              "       [6.3, 2.3, 4.4, 1.3, 1. ],\n",
              "       [5.6, 3. , 4.1, 1.3, 1. ],\n",
              "       [5.5, 2.5, 4. , 1.3, 1. ],\n",
              "       [5.5, 2.6, 4.4, 1.2, 1. ],\n",
              "       [6.1, 3. , 4.6, 1.4, 1. ],\n",
              "       [5.8, 2.6, 4. , 1.2, 1. ],\n",
              "       [5. , 2.3, 3.3, 1. , 1. ],\n",
              "       [5.6, 2.7, 4.2, 1.3, 1. ],\n",
              "       [5.7, 3. , 4.2, 1.2, 1. ],\n",
              "       [5.7, 2.9, 4.2, 1.3, 1. ],\n",
              "       [6.2, 2.9, 4.3, 1.3, 1. ],\n",
              "       [5.1, 2.5, 3. , 1.1, 1. ],\n",
              "       [5.7, 2.8, 4.1, 1.3, 1. ],\n",
              "       [6.3, 3.3, 6. , 2.5, 1. ],\n",
              "       [5.8, 2.7, 5.1, 1.9, 1. ],\n",
              "       [7.1, 3. , 5.9, 2.1, 1. ],\n",
              "       [6.3, 2.9, 5.6, 1.8, 1. ],\n",
              "       [6.5, 3. , 5.8, 2.2, 1. ],\n",
              "       [7.6, 3. , 6.6, 2.1, 1. ],\n",
              "       [4.9, 2.5, 4.5, 1.7, 1. ],\n",
              "       [7.3, 2.9, 6.3, 1.8, 1. ],\n",
              "       [6.7, 2.5, 5.8, 1.8, 1. ],\n",
              "       [7.2, 3.6, 6.1, 2.5, 1. ],\n",
              "       [6.5, 3.2, 5.1, 2. , 1. ],\n",
              "       [6.4, 2.7, 5.3, 1.9, 1. ],\n",
              "       [6.8, 3. , 5.5, 2.1, 1. ],\n",
              "       [5.7, 2.5, 5. , 2. , 1. ],\n",
              "       [5.8, 2.8, 5.1, 2.4, 1. ],\n",
              "       [6.4, 3.2, 5.3, 2.3, 1. ],\n",
              "       [6.5, 3. , 5.5, 1.8, 1. ],\n",
              "       [7.7, 3.8, 6.7, 2.2, 1. ],\n",
              "       [7.7, 2.6, 6.9, 2.3, 1. ],\n",
              "       [6. , 2.2, 5. , 1.5, 1. ],\n",
              "       [6.9, 3.2, 5.7, 2.3, 1. ],\n",
              "       [5.6, 2.8, 4.9, 2. , 1. ],\n",
              "       [7.7, 2.8, 6.7, 2. , 1. ],\n",
              "       [6.3, 2.7, 4.9, 1.8, 1. ],\n",
              "       [6.7, 3.3, 5.7, 2.1, 1. ],\n",
              "       [7.2, 3.2, 6. , 1.8, 1. ],\n",
              "       [6.2, 2.8, 4.8, 1.8, 1. ],\n",
              "       [6.1, 3. , 4.9, 1.8, 1. ],\n",
              "       [6.4, 2.8, 5.6, 2.1, 1. ],\n",
              "       [7.2, 3. , 5.8, 1.6, 1. ],\n",
              "       [7.4, 2.8, 6.1, 1.9, 1. ],\n",
              "       [7.9, 3.8, 6.4, 2. , 1. ],\n",
              "       [6.4, 2.8, 5.6, 2.2, 1. ],\n",
              "       [6.3, 2.8, 5.1, 1.5, 1. ],\n",
              "       [6.1, 2.6, 5.6, 1.4, 1. ],\n",
              "       [7.7, 3. , 6.1, 2.3, 1. ],\n",
              "       [6.3, 3.4, 5.6, 2.4, 1. ],\n",
              "       [6.4, 3.1, 5.5, 1.8, 1. ],\n",
              "       [6. , 3. , 4.8, 1.8, 1. ],\n",
              "       [6.9, 3.1, 5.4, 2.1, 1. ],\n",
              "       [6.7, 3.1, 5.6, 2.4, 1. ],\n",
              "       [6.9, 3.1, 5.1, 2.3, 1. ],\n",
              "       [5.8, 2.7, 5.1, 1.9, 1. ],\n",
              "       [6.8, 3.2, 5.9, 2.3, 1. ],\n",
              "       [6.7, 3.3, 5.7, 2.5, 1. ],\n",
              "       [6.7, 3. , 5.2, 2.3, 1. ],\n",
              "       [6.3, 2.5, 5. , 1.9, 1. ],\n",
              "       [6.5, 3. , 5.2, 2. , 1. ],\n",
              "       [6.2, 3.4, 5.4, 2.3, 1. ],\n",
              "       [5.9, 3. , 5.1, 1.8, 1. ]])"
            ]
          },
          "metadata": {},
          "execution_count": 59
        }
      ],
      "source": [
        "X_b = np.c_[ X,np.ones((X.shape[0], 1)),]\n",
        "X_b"
      ]
    },
    {
      "cell_type": "code",
      "execution_count": 60,
      "metadata": {
        "colab": {
          "base_uri": "https://localhost:8080/"
        },
        "id": "PAxyrbMa7-US",
        "outputId": "06326145-5818-4df4-b8c8-406cc893876f"
      },
      "outputs": [
        {
          "output_type": "execute_result",
          "data": {
            "text/plain": [
              "array([0, 0, 0, 0, 0, 0, 0, 0, 0, 0, 0, 0, 0, 0, 0, 0, 0, 0, 0, 0, 0, 0,\n",
              "       0, 0, 0, 0, 0, 0, 0, 0, 0, 0, 0, 0, 0, 0, 0, 0, 0, 0, 0, 0, 0, 0,\n",
              "       0, 0, 0, 0, 0, 0, 1, 1, 1, 1, 1, 1, 1, 1, 1, 1, 1, 1, 1, 1, 1, 1,\n",
              "       1, 1, 1, 1, 1, 1, 1, 1, 1, 1, 1, 1, 1, 1, 1, 1, 1, 1, 1, 1, 1, 1,\n",
              "       1, 1, 1, 1, 1, 1, 1, 1, 1, 1, 1, 1, 2, 2, 2, 2, 2, 2, 2, 2, 2, 2,\n",
              "       2, 2, 2, 2, 2, 2, 2, 2, 2, 2, 2, 2, 2, 2, 2, 2, 2, 2, 2, 2, 2, 2,\n",
              "       2, 2, 2, 2, 2, 2, 2, 2, 2, 2, 2, 2, 2, 2, 2, 2, 2, 2])"
            ]
          },
          "metadata": {},
          "execution_count": 60
        }
      ],
      "source": [
        "y"
      ]
    },
    {
      "cell_type": "code",
      "execution_count": 61,
      "metadata": {
        "colab": {
          "base_uri": "https://localhost:8080/"
        },
        "id": "UM8wBbzh8KmA",
        "outputId": "c6efee93-dc08-4ae8-9298-ee4bdf7a9adf"
      },
      "outputs": [
        {
          "output_type": "execute_result",
          "data": {
            "text/plain": [
              "array([ 1,  1,  1,  1,  1,  1,  1,  1,  1,  1,  1,  1,  1,  1,  1,  1,  1,\n",
              "        1,  1,  1,  1,  1,  1,  1,  1,  1,  1,  1,  1,  1,  1,  1,  1,  1,\n",
              "        1,  1,  1,  1,  1,  1,  1,  1,  1,  1,  1,  1,  1,  1,  1,  1, -1,\n",
              "       -1, -1, -1, -1, -1, -1, -1, -1, -1, -1, -1, -1, -1, -1, -1, -1, -1,\n",
              "       -1, -1, -1, -1, -1, -1, -1, -1, -1, -1, -1, -1, -1, -1, -1, -1, -1,\n",
              "       -1, -1, -1, -1, -1, -1, -1, -1, -1, -1, -1, -1, -1, -1, -1, -1, -1,\n",
              "       -1, -1, -1, -1, -1, -1, -1, -1, -1, -1, -1, -1, -1, -1, -1, -1, -1,\n",
              "       -1, -1, -1, -1, -1, -1, -1, -1, -1, -1, -1, -1, -1, -1, -1, -1, -1,\n",
              "       -1, -1, -1, -1, -1, -1, -1, -1, -1, -1, -1, -1, -1, -1])"
            ]
          },
          "metadata": {},
          "execution_count": 61
        }
      ],
      "source": [
        "# convert c2 and c3 to c2\n",
        "y[y == 1] = -1\n",
        "y[y == 2] = -1\n",
        "y[y == 0] = 1\n",
        "y"
      ]
    },
    {
      "cell_type": "code",
      "execution_count": 64,
      "metadata": {
        "colab": {
          "base_uri": "https://localhost:8080/"
        },
        "id": "lZzEUhnv8n3Y",
        "outputId": "80c91cb6-063b-4687-9e10-fb19b55fc863"
      },
      "outputs": [
        {
          "output_type": "execute_result",
          "data": {
            "text/plain": [
              "((50, 5), (50,), (100, 5), (100,))"
            ]
          },
          "metadata": {},
          "execution_count": 64
        }
      ],
      "source": [
        "c1_x = X_b[y == 1]\n",
        "c1_y = y[y == 1]\n",
        "c2_x = X_b[y == -1]\n",
        "c2_x*=-1\n",
        "\n",
        "c2_y = y[y == -1]\n",
        "c1_x.shape, c1_y.shape, c2_x.shape, c2_y.shape,"
      ]
    },
    {
      "cell_type": "code",
      "execution_count": 65,
      "metadata": {
        "colab": {
          "base_uri": "https://localhost:8080/"
        },
        "id": "a94-_wg09Jox",
        "outputId": "d4bda9ec-58b9-4446-d9dc-c683e17a43a5"
      },
      "outputs": [
        {
          "output_type": "stream",
          "name": "stdout",
          "text": [
            "(40, 5) (10, 5) (40,) (10,)\n"
          ]
        },
        {
          "output_type": "execute_result",
          "data": {
            "text/plain": [
              "((80, 5), (20, 5), (80,), (20,))"
            ]
          },
          "metadata": {},
          "execution_count": 65
        }
      ],
      "source": [
        "from sklearn.model_selection import train_test_split\n",
        "c1_x_train, c1_x_test, c1_y_train, c1_y_test = train_test_split(c1_x, c1_y, test_size = .2, random_state = 32)\n",
        "c2_x_train, c2_x_test, c2_y_train, c2_y_test = train_test_split(c2_x, c2_y, test_size = .2, random_state = 32)\n",
        "\n",
        "print(c1_x_train.shape, c1_x_test.shape, c1_y_train.shape, c1_y_test.shape)\n",
        "c2_x_train.shape, c2_x_test.shape, c2_y_train.shape, c2_y_test.shape"
      ]
    },
    {
      "cell_type": "code",
      "execution_count": 66,
      "metadata": {
        "colab": {
          "base_uri": "https://localhost:8080/"
        },
        "id": "f8_qM_Jn-Ag3",
        "outputId": "95a0e2e2-554e-4b01-fcd7-d39d3e89ff79"
      },
      "outputs": [
        {
          "output_type": "execute_result",
          "data": {
            "text/plain": [
              "((120, 5), (120,), (30, 5), (30,))"
            ]
          },
          "metadata": {},
          "execution_count": 66
        }
      ],
      "source": [
        "X_train = np.concatenate((c1_x_train, c2_x_train))\n",
        "y_train = np.concatenate((c1_y_train, c2_y_train))\n",
        "X_test = np.concatenate((c1_x_test, c2_x_test))\n",
        "y_test = np.concatenate((c1_y_test, c2_y_test))\n",
        "\n",
        "X_train.shape, y_train.shape, X_test.shape, y_test.shape"
      ]
    },
    {
      "cell_type": "code",
      "execution_count": 67,
      "metadata": {
        "id": "Myh1IpYf-mDd"
      },
      "outputs": [],
      "source": [
        "def find_best_fit(X, Y):\n",
        "    # Applying the normal equation\n",
        "    best_fit = np.linalg.inv(X.T.dot(X)).dot(X.T).dot(Y)\n",
        "    return best_fit  # Returning W"
      ]
    },
    {
      "cell_type": "code",
      "execution_count": 68,
      "metadata": {
        "id": "pLI-fiqS_s3A"
      },
      "outputs": [],
      "source": [
        "def accuracy(y_test, y_pred):\n",
        "  return np.sum(y_test == y_pred) / len(y_test)"
      ]
    },
    {
      "cell_type": "code",
      "execution_count": 69,
      "metadata": {
        "id": "RMKNh73YCXID"
      },
      "outputs": [],
      "source": [
        "def evaluate(y_pred):\n",
        "  y_pred[y_pred >= 0] = 1\n",
        "  y_pred[y_pred < 0] = -1\n",
        "  return y_pred"
      ]
    },
    {
      "cell_type": "code",
      "execution_count": 70,
      "metadata": {
        "colab": {
          "base_uri": "https://localhost:8080/"
        },
        "id": "Gz8Gk1ED_VPF",
        "outputId": "6f849d7a-1990-4acc-d684-0006abcd3b93"
      },
      "outputs": [
        {
          "output_type": "execute_result",
          "data": {
            "text/plain": [
              "1.0"
            ]
          },
          "metadata": {},
          "execution_count": 70
        }
      ],
      "source": [
        "W = find_best_fit(X_train, y_train)\n",
        "W = W.reshape(-1, 1)\n",
        "y_pred = np.dot(X_test, W)\n",
        "\n",
        "y_pred = evaluate(y_pred)\n",
        "y_pred = np.array(y_pred).reshape(-1)\n",
        "\n",
        "accuracy(y_pred, y_test)"
      ]
    },
    {
      "cell_type": "markdown",
      "metadata": {
        "id": "Pp2qG6vfKMRo"
      },
      "source": [
        "# **finish**"
      ]
    }
  ],
  "metadata": {
    "colab": {
      "provenance": [],
      "include_colab_link": true
    },
    "kernelspec": {
      "display_name": "Python 3",
      "name": "python3"
    },
    "language_info": {
      "name": "python"
    }
  },
  "nbformat": 4,
  "nbformat_minor": 0
}