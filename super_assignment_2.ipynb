{
  "nbformat": 4,
  "nbformat_minor": 0,
  "metadata": {
    "colab": {
      "provenance": [],
      "collapsed_sections": [
        "ND81cMDm6D93",
        "zkbVtDlY6G0Q"
      ],
      "authorship_tag": "ABX9TyNOuzng3QZdIKjCf3m1YUMV",
      "include_colab_link": true
    },
    "kernelspec": {
      "name": "python3",
      "display_name": "Python 3"
    },
    "language_info": {
      "name": "python"
    }
  },
  "cells": [
    {
      "cell_type": "markdown",
      "metadata": {
        "id": "view-in-github",
        "colab_type": "text"
      },
      "source": [
        "<a href=\"https://colab.research.google.com/github/Abdelrahman-Wael-1029/Supervised_assignments/blob/main/super_assignment_2.ipynb\" target=\"_parent\"><img src=\"https://colab.research.google.com/assets/colab-badge.svg\" alt=\"Open In Colab\"/></a>"
      ]
    },
    {
      "cell_type": "markdown",
      "source": [
        "# part 1"
      ],
      "metadata": {
        "id": "ND81cMDm6D93"
      }
    },
    {
      "cell_type": "code",
      "execution_count": 113,
      "metadata": {
        "id": "s4EQwjmTtQwc"
      },
      "outputs": [],
      "source": [
        "import numpy as np\n",
        "import matplotlib.pyplot as plt"
      ]
    },
    {
      "cell_type": "code",
      "source": [
        "# define w\n",
        "W= np.array([2, 1])\n",
        "# choise random number\n",
        "X = np.array([-2, -1, 0, 1, 2])\n",
        "X_b = np.ones((5 , 2))\n",
        "X_b[:,0] = X\n",
        "\n",
        "y = np.dot(X_b, W) # any linear equation of one variable(e.g. Y=WX+C)\n",
        "y"
      ],
      "metadata": {
        "colab": {
          "base_uri": "https://localhost:8080/"
        },
        "id": "GreFZ7QetW4Q",
        "outputId": "f6057935-e86d-4a61-9b02-e8ad3b3fcf64"
      },
      "execution_count": 142,
      "outputs": [
        {
          "output_type": "execute_result",
          "data": {
            "text/plain": [
              "array([-3., -1.,  1.,  3.,  5.])"
            ]
          },
          "metadata": {},
          "execution_count": 142
        }
      ]
    },
    {
      "cell_type": "code",
      "source": [
        "# Utility function to apply MSSE and find the best fit line\n",
        "def find_best_fit(X, Y):\n",
        "    # Applying the normal equation\n",
        "    best_fit = np.linalg.inv(X.T.dot(X)).dot(X.T).dot(Y)\n",
        "    return best_fit  # Returning W"
      ],
      "metadata": {
        "id": "e3oSm_6l1ZUG"
      },
      "execution_count": 143,
      "outputs": []
    },
    {
      "cell_type": "code",
      "source": [
        "# Step 3: Apply MSSE to find the best fit line\n",
        "W_estimated = find_best_fit(X_b, y)\n",
        "W_estimated\n"
      ],
      "metadata": {
        "colab": {
          "base_uri": "https://localhost:8080/"
        },
        "id": "ljbop6DJ2MZ-",
        "outputId": "0ffbf996-bdd3-4537-91b6-b006d5a74d32"
      },
      "execution_count": 144,
      "outputs": [
        {
          "output_type": "execute_result",
          "data": {
            "text/plain": [
              "array([2., 1.])"
            ]
          },
          "metadata": {},
          "execution_count": 144
        }
      ]
    },
    {
      "cell_type": "code",
      "source": [
        "# Step 4: Visualizing the original and estimated equations\n",
        "plt.scatter(X, y, color='blue', label='Original data')\n",
        "plt.plot(X, np.dot(X_b,W), label='Original line', linestyle='--', color='green')\n",
        "plt.plot(X, np.dot(X_b,W_estimated), label='Estimated line', color='red')\n",
        "plt.xlabel('X')\n",
        "plt.ylabel('Y')\n",
        "plt.legend()"
      ],
      "metadata": {
        "colab": {
          "base_uri": "https://localhost:8080/",
          "height": 466
        },
        "id": "rnq8mK_E2ehm",
        "outputId": "1be2e1f2-0f02-47c3-aefe-c39252541032"
      },
      "execution_count": 147,
      "outputs": [
        {
          "output_type": "execute_result",
          "data": {
            "text/plain": [
              "<matplotlib.legend.Legend at 0x7f095997bf40>"
            ]
          },
          "metadata": {},
          "execution_count": 147
        },
        {
          "output_type": "display_data",
          "data": {
            "text/plain": [
              "<Figure size 640x480 with 1 Axes>"
            ],
            "image/png": "[encoded data removed]"
          },
          "metadata": {}
        }
      ]
    },
    {
      "cell_type": "code",
      "source": [
        "def evaluate(y_pred):\n",
        "  y_pred[y_pred >= 0] = 1\n",
        "  y_pred[y_pred < 0] = -1\n",
        "  return y_pred\n",
        ""
      ],
      "metadata": {
        "id": "aeNj5R2yGudn"
      },
      "execution_count": 155,
      "outputs": []
    },
    {
      "cell_type": "code",
      "source": [
        "evaluate(np.dot(X_b,W_estimated)),np.dot(X_b,W_estimated)"
      ],
      "metadata": {
        "colab": {
          "base_uri": "https://localhost:8080/"
        },
        "id": "vwcFYZw8Gsy_",
        "outputId": "765ee1ab-4fbb-48fd-c652-91762aa84e57"
      },
      "execution_count": 159,
      "outputs": [
        {
          "output_type": "execute_result",
          "data": {
            "text/plain": [
              "(array([-1., -1.,  1.,  1.,  1.]), array([-3., -1.,  1.,  3.,  5.]))"
            ]
          },
          "metadata": {},
          "execution_count": 159
        }
      ]
    },
    {
      "cell_type": "code",
      "source": [
        "# Step 5: Repeat with noise\n",
        "y_noisy = y + np.random.normal(0, 1, 5)  # Adding some noise\n",
        "W_estimated_noisy= find_best_fit(X_b, y_noisy)\n",
        "\n",
        "W_estimated_noisy"
      ],
      "metadata": {
        "colab": {
          "base_uri": "https://localhost:8080/"
        },
        "id": "wFIc_4cB2kTO",
        "outputId": "c74ac837-eced-4cf7-b4d4-359e0f9b7a8d"
      },
      "execution_count": 150,
      "outputs": [
        {
          "output_type": "execute_result",
          "data": {
            "text/plain": [
              "array([2.06475455, 0.86251212])"
            ]
          },
          "metadata": {},
          "execution_count": 150
        }
      ]
    },
    {
      "cell_type": "code",
      "source": [
        "\n",
        "plt.scatter(X, y_noisy, color='blue', label='Noisy data')\n",
        "plt.plot(X, np.dot(X_b, W), label='Original line', linestyle='--', color='green')\n",
        "plt.plot(X, np.dot(X_b, W_estimated_noisy), label='Estimated line with noise', color='red')\n",
        "plt.xlabel('X')\n",
        "plt.ylabel('Y')\n",
        "plt.legend()\n"
      ],
      "metadata": {
        "colab": {
          "base_uri": "https://localhost:8080/",
          "height": 466
        },
        "id": "uuLfzNYRvsTl",
        "outputId": "5746c383-4916-441b-9383-7f456809bfad"
      },
      "execution_count": 151,
      "outputs": [
        {
          "output_type": "execute_result",
          "data": {
            "text/plain": [
              "<matplotlib.legend.Legend at 0x7f09597e9330>"
            ]
          },
          "metadata": {},
          "execution_count": 151
        },
        {
          "output_type": "display_data",
          "data": {
            "text/plain": [
              "<Figure size 640x480 with 1 Axes>"
            ],
            "image/png": "[encoded data removed]"
          },
          "metadata": {}
        }
      ]
    },
    {
      "cell_type": "code",
      "source": [
        "evaluate(np.dot(X_b,W_estimated_noisy)), np.dot(X_b,W_estimated_noisy)"
      ],
      "metadata": {
        "colab": {
          "base_uri": "https://localhost:8080/"
        },
        "id": "JSg-kyG_Egmp",
        "outputId": "c98f1b30-a7ef-4770-96cb-7255b9e17288"
      },
      "execution_count": 158,
      "outputs": [
        {
          "output_type": "execute_result",
          "data": {
            "text/plain": [
              "(array([-1., -1.,  1.,  1.,  1.]),\n",
              " array([-3.26699699, -1.20224244,  0.86251212,  2.92726667,  4.99202122]))"
            ]
          },
          "metadata": {},
          "execution_count": 158
        }
      ]
    },
    {
      "cell_type": "markdown",
      "source": [
        "# part 2"
      ],
      "metadata": {
        "id": "zkbVtDlY6G0Q"
      }
    },
    {
      "cell_type": "code",
      "source": [
        "from sklearn import datasets\n",
        "\n",
        "iris = datasets.load_iris()\n",
        "\n",
        "X = iris.data\n",
        "y = iris.target\n",
        "X.shape, y.shape"
      ],
      "metadata": {
        "colab": {
          "base_uri": "https://localhost:8080/"
        },
        "id": "_17C51lPzLzi",
        "outputId": "35b4b7cd-c00d-40fd-e011-7fbf8808f7fe"
      },
      "execution_count": 120,
      "outputs": [
        {
          "output_type": "execute_result",
          "data": {
            "text/plain": [
              "((150, 4), (150,))"
            ]
          },
          "metadata": {},
          "execution_count": 120
        }
      ]
    },
    {
      "cell_type": "code",
      "source": [
        "X_b = np.c_[ X,np.ones((X.shape[0], 1)),]\n",
        "X_b"
      ],
      "metadata": {
        "colab": {
          "base_uri": "https://localhost:8080/"
        },
        "id": "truoGh2P7ju4",
        "outputId": "5b56a86c-b519-4044-e162-f969eefa000c"
      },
      "execution_count": 121,
      "outputs": [
        {
          "output_type": "execute_result",
          "data": {
            "text/plain": [
              "array([[5.1, 3.5, 1.4, 0.2, 1. ],\n",
              "       [4.9, 3. , 1.4, 0.2, 1. ],\n",
              "       [4.7, 3.2, 1.3, 0.2, 1. ],\n",
              "       [4.6, 3.1, 1.5, 0.2, 1. ],\n",
              "       [5. , 3.6, 1.4, 0.2, 1. ],\n",
              "       [5.4, 3.9, 1.7, 0.4, 1. ],\n",
              "       [4.6, 3.4, 1.4, 0.3, 1. ],\n",
              "       [5. , 3.4, 1.5, 0.2, 1. ],\n",
              "       [4.4, 2.9, 1.4, 0.2, 1. ],\n",
              "       [4.9, 3.1, 1.5, 0.1, 1. ],\n",
              "       [5.4, 3.7, 1.5, 0.2, 1. ],\n",
              "       [4.8, 3.4, 1.6, 0.2, 1. ],\n",
              "       [4.8, 3. , 1.4, 0.1, 1. ],\n",
              "       [4.3, 3. , 1.1, 0.1, 1. ],\n",
              "       [5.8, 4. , 1.2, 0.2, 1. ],\n",
              "       [5.7, 4.4, 1.5, 0.4, 1. ],\n",
              "       [5.4, 3.9, 1.3, 0.4, 1. ],\n",
              "       [5.1, 3.5, 1.4, 0.3, 1. ],\n",
              "       [5.7, 3.8, 1.7, 0.3, 1. ],\n",
              "       [5.1, 3.8, 1.5, 0.3, 1. ],\n",
              "       [5.4, 3.4, 1.7, 0.2, 1. ],\n",
              "       [5.1, 3.7, 1.5, 0.4, 1. ],\n",
              "       [4.6, 3.6, 1. , 0.2, 1. ],\n",
              "       [5.1, 3.3, 1.7, 0.5, 1. ],\n",
              "       [4.8, 3.4, 1.9, 0.2, 1. ],\n",
              "       [5. , 3. , 1.6, 0.2, 1. ],\n",
              "       [5. , 3.4, 1.6, 0.4, 1. ],\n",
              "       [5.2, 3.5, 1.5, 0.2, 1. ],\n",
              "       [5.2, 3.4, 1.4, 0.2, 1. ],\n",
              "       [4.7, 3.2, 1.6, 0.2, 1. ],\n",
              "       [4.8, 3.1, 1.6, 0.2, 1. ],\n",
              "       [5.4, 3.4, 1.5, 0.4, 1. ],\n",
              "       [5.2, 4.1, 1.5, 0.1, 1. ],\n",
              "       [5.5, 4.2, 1.4, 0.2, 1. ],\n",
              "       [4.9, 3.1, 1.5, 0.2, 1. ],\n",
              "       [5. , 3.2, 1.2, 0.2, 1. ],\n",
              "       [5.5, 3.5, 1.3, 0.2, 1. ],\n",
              "       [4.9, 3.6, 1.4, 0.1, 1. ],\n",
              "       [4.4, 3. , 1.3, 0.2, 1. ],\n",
              "       [5.1, 3.4, 1.5, 0.2, 1. ],\n",
              "       [5. , 3.5, 1.3, 0.3, 1. ],\n",
              "       [4.5, 2.3, 1.3, 0.3, 1. ],\n",
              "       [4.4, 3.2, 1.3, 0.2, 1. ],\n",
              "       [5. , 3.5, 1.6, 0.6, 1. ],\n",
              "       [5.1, 3.8, 1.9, 0.4, 1. ],\n",
              "       [4.8, 3. , 1.4, 0.3, 1. ],\n",
              "       [5.1, 3.8, 1.6, 0.2, 1. ],\n",
              "       [4.6, 3.2, 1.4, 0.2, 1. ],\n",
              "       [5.3, 3.7, 1.5, 0.2, 1. ],\n",
              "       [5. , 3.3, 1.4, 0.2, 1. ],\n",
              "       [7. , 3.2, 4.7, 1.4, 1. ],\n",
              "       [6.4, 3.2, 4.5, 1.5, 1. ],\n",
              "       [6.9, 3.1, 4.9, 1.5, 1. ],\n",
              "       [5.5, 2.3, 4. , 1.3, 1. ],\n",
              "       [6.5, 2.8, 4.6, 1.5, 1. ],\n",
              "       [5.7, 2.8, 4.5, 1.3, 1. ],\n",
              "       [6.3, 3.3, 4.7, 1.6, 1. ],\n",
              "       [4.9, 2.4, 3.3, 1. , 1. ],\n",
              "       [6.6, 2.9, 4.6, 1.3, 1. ],\n",
              "       [5.2, 2.7, 3.9, 1.4, 1. ],\n",
              "       [5. , 2. , 3.5, 1. , 1. ],\n",
              "       [5.9, 3. , 4.2, 1.5, 1. ],\n",
              "       [6. , 2.2, 4. , 1. , 1. ],\n",
              "       [6.1, 2.9, 4.7, 1.4, 1. ],\n",
              "       [5.6, 2.9, 3.6, 1.3, 1. ],\n",
              "       [6.7, 3.1, 4.4, 1.4, 1. ],\n",
              "       [5.6, 3. , 4.5, 1.5, 1. ],\n",
              "       [5.8, 2.7, 4.1, 1. , 1. ],\n",
              "       [6.2, 2.2, 4.5, 1.5, 1. ],\n",
              "       [5.6, 2.5, 3.9, 1.1, 1. ],\n",
              "       [5.9, 3.2, 4.8, 1.8, 1. ],\n",
              "       [6.1, 2.8, 4. , 1.3, 1. ],\n",
              "       [6.3, 2.5, 4.9, 1.5, 1. ],\n",
              "       [6.1, 2.8, 4.7, 1.2, 1. ],\n",
              "       [6.4, 2.9, 4.3, 1.3, 1. ],\n",
              "       [6.6, 3. , 4.4, 1.4, 1. ],\n",
              "       [6.8, 2.8, 4.8, 1.4, 1. ],\n",
              "       [6.7, 3. , 5. , 1.7, 1. ],\n",
              "       [6. , 2.9, 4.5, 1.5, 1. ],\n",
              "       [5.7, 2.6, 3.5, 1. , 1. ],\n",
              "       [5.5, 2.4, 3.8, 1.1, 1. ],\n",
              "       [5.5, 2.4, 3.7, 1. , 1. ],\n",
              "       [5.8, 2.7, 3.9, 1.2, 1. ],\n",
              "       [6. , 2.7, 5.1, 1.6, 1. ],\n",
              "       [5.4, 3. , 4.5, 1.5, 1. ],\n",
              "       [6. , 3.4, 4.5, 1.6, 1. ],\n",
              "       [6.7, 3.1, 4.7, 1.5, 1. ],\n",
              "       [6.3, 2.3, 4.4, 1.3, 1. ],\n",
              "       [5.6, 3. , 4.1, 1.3, 1. ],\n",
              "       [5.5, 2.5, 4. , 1.3, 1. ],\n",
              "       [5.5, 2.6, 4.4, 1.2, 1. ],\n",
              "       [6.1, 3. , 4.6, 1.4, 1. ],\n",
              "       [5.8, 2.6, 4. , 1.2, 1. ],\n",
              "       [5. , 2.3, 3.3, 1. , 1. ],\n",
              "       [5.6, 2.7, 4.2, 1.3, 1. ],\n",
              "       [5.7, 3. , 4.2, 1.2, 1. ],\n",
              "       [5.7, 2.9, 4.2, 1.3, 1. ],\n",
              "       [6.2, 2.9, 4.3, 1.3, 1. ],\n",
              "       [5.1, 2.5, 3. , 1.1, 1. ],\n",
              "       [5.7, 2.8, 4.1, 1.3, 1. ],\n",
              "       [6.3, 3.3, 6. , 2.5, 1. ],\n",
              "       [5.8, 2.7, 5.1, 1.9, 1. ],\n",
              "       [7.1, 3. , 5.9, 2.1, 1. ],\n",
              "       [6.3, 2.9, 5.6, 1.8, 1. ],\n",
              "       [6.5, 3. , 5.8, 2.2, 1. ],\n",
              "       [7.6, 3. , 6.6, 2.1, 1. ],\n",
              "       [4.9, 2.5, 4.5, 1.7, 1. ],\n",
              "       [7.3, 2.9, 6.3, 1.8, 1. ],\n",
              "       [6.7, 2.5, 5.8, 1.8, 1. ],\n",
              "       [7.2, 3.6, 6.1, 2.5, 1. ],\n",
              "       [6.5, 3.2, 5.1, 2. , 1. ],\n",
              "       [6.4, 2.7, 5.3, 1.9, 1. ],\n",
              "       [6.8, 3. , 5.5, 2.1, 1. ],\n",
              "       [5.7, 2.5, 5. , 2. , 1. ],\n",
              "       [5.8, 2.8, 5.1, 2.4, 1. ],\n",
              "       [6.4, 3.2, 5.3, 2.3, 1. ],\n",
              "       [6.5, 3. , 5.5, 1.8, 1. ],\n",
              "       [7.7, 3.8, 6.7, 2.2, 1. ],\n",
              "       [7.7, 2.6, 6.9, 2.3, 1. ],\n",
              "       [6. , 2.2, 5. , 1.5, 1. ],\n",
              "       [6.9, 3.2, 5.7, 2.3, 1. ],\n",
              "       [5.6, 2.8, 4.9, 2. , 1. ],\n",
              "       [7.7, 2.8, 6.7, 2. , 1. ],\n",
              "       [6.3, 2.7, 4.9, 1.8, 1. ],\n",
              "       [6.7, 3.3, 5.7, 2.1, 1. ],\n",
              "       [7.2, 3.2, 6. , 1.8, 1. ],\n",
              "       [6.2, 2.8, 4.8, 1.8, 1. ],\n",
              "       [6.1, 3. , 4.9, 1.8, 1. ],\n",
              "       [6.4, 2.8, 5.6, 2.1, 1. ],\n",
              "       [7.2, 3. , 5.8, 1.6, 1. ],\n",
              "       [7.4, 2.8, 6.1, 1.9, 1. ],\n",
              "       [7.9, 3.8, 6.4, 2. , 1. ],\n",
              "       [6.4, 2.8, 5.6, 2.2, 1. ],\n",
              "       [6.3, 2.8, 5.1, 1.5, 1. ],\n",
              "       [6.1, 2.6, 5.6, 1.4, 1. ],\n",
              "       [7.7, 3. , 6.1, 2.3, 1. ],\n",
              "       [6.3, 3.4, 5.6, 2.4, 1. ],\n",
              "       [6.4, 3.1, 5.5, 1.8, 1. ],\n",
              "       [6. , 3. , 4.8, 1.8, 1. ],\n",
              "       [6.9, 3.1, 5.4, 2.1, 1. ],\n",
              "       [6.7, 3.1, 5.6, 2.4, 1. ],\n",
              "       [6.9, 3.1, 5.1, 2.3, 1. ],\n",
              "       [5.8, 2.7, 5.1, 1.9, 1. ],\n",
              "       [6.8, 3.2, 5.9, 2.3, 1. ],\n",
              "       [6.7, 3.3, 5.7, 2.5, 1. ],\n",
              "       [6.7, 3. , 5.2, 2.3, 1. ],\n",
              "       [6.3, 2.5, 5. , 1.9, 1. ],\n",
              "       [6.5, 3. , 5.2, 2. , 1. ],\n",
              "       [6.2, 3.4, 5.4, 2.3, 1. ],\n",
              "       [5.9, 3. , 5.1, 1.8, 1. ]])"
            ]
          },
          "metadata": {},
          "execution_count": 121
        }
      ]
    },
    {
      "cell_type": "code",
      "source": [
        "y"
      ],
      "metadata": {
        "colab": {
          "base_uri": "https://localhost:8080/"
        },
        "id": "PAxyrbMa7-US",
        "outputId": "bcdfc842-baea-49b0-bcd2-0d790cd35758"
      },
      "execution_count": 122,
      "outputs": [
        {
          "output_type": "execute_result",
          "data": {
            "text/plain": [
              "array([0, 0, 0, 0, 0, 0, 0, 0, 0, 0, 0, 0, 0, 0, 0, 0, 0, 0, 0, 0, 0, 0,\n",
              "       0, 0, 0, 0, 0, 0, 0, 0, 0, 0, 0, 0, 0, 0, 0, 0, 0, 0, 0, 0, 0, 0,\n",
              "       0, 0, 0, 0, 0, 0, 1, 1, 1, 1, 1, 1, 1, 1, 1, 1, 1, 1, 1, 1, 1, 1,\n",
              "       1, 1, 1, 1, 1, 1, 1, 1, 1, 1, 1, 1, 1, 1, 1, 1, 1, 1, 1, 1, 1, 1,\n",
              "       1, 1, 1, 1, 1, 1, 1, 1, 1, 1, 1, 1, 2, 2, 2, 2, 2, 2, 2, 2, 2, 2,\n",
              "       2, 2, 2, 2, 2, 2, 2, 2, 2, 2, 2, 2, 2, 2, 2, 2, 2, 2, 2, 2, 2, 2,\n",
              "       2, 2, 2, 2, 2, 2, 2, 2, 2, 2, 2, 2, 2, 2, 2, 2, 2, 2])"
            ]
          },
          "metadata": {},
          "execution_count": 122
        }
      ]
    },
    {
      "cell_type": "code",
      "source": [
        "# convert c2 and c3 to c2\n",
        "y[y == 1] = -1\n",
        "y[y == 2] = -1\n",
        "y[y == 0] = 1\n",
        "y"
      ],
      "metadata": {
        "colab": {
          "base_uri": "https://localhost:8080/"
        },
        "id": "UM8wBbzh8KmA",
        "outputId": "01bcd3a1-79a4-499e-df56-9c2e408abac5"
      },
      "execution_count": 123,
      "outputs": [
        {
          "output_type": "execute_result",
          "data": {
            "text/plain": [
              "array([ 1,  1,  1,  1,  1,  1,  1,  1,  1,  1,  1,  1,  1,  1,  1,  1,  1,\n",
              "        1,  1,  1,  1,  1,  1,  1,  1,  1,  1,  1,  1,  1,  1,  1,  1,  1,\n",
              "        1,  1,  1,  1,  1,  1,  1,  1,  1,  1,  1,  1,  1,  1,  1,  1, -1,\n",
              "       -1, -1, -1, -1, -1, -1, -1, -1, -1, -1, -1, -1, -1, -1, -1, -1, -1,\n",
              "       -1, -1, -1, -1, -1, -1, -1, -1, -1, -1, -1, -1, -1, -1, -1, -1, -1,\n",
              "       -1, -1, -1, -1, -1, -1, -1, -1, -1, -1, -1, -1, -1, -1, -1, -1, -1,\n",
              "       -1, -1, -1, -1, -1, -1, -1, -1, -1, -1, -1, -1, -1, -1, -1, -1, -1,\n",
              "       -1, -1, -1, -1, -1, -1, -1, -1, -1, -1, -1, -1, -1, -1, -1, -1, -1,\n",
              "       -1, -1, -1, -1, -1, -1, -1, -1, -1, -1, -1, -1, -1, -1])"
            ]
          },
          "metadata": {},
          "execution_count": 123
        }
      ]
    },
    {
      "cell_type": "code",
      "source": [
        "c1_x = X_b[y == 1]\n",
        "c1_y = y[y == 1]\n",
        "c2_x = X_b[y == -1]\n",
        "c2_y = y[y == -1]\n",
        "c1_x.shape, c1_y.shape, c2_x.shape, c2_y.shape,"
      ],
      "metadata": {
        "colab": {
          "base_uri": "https://localhost:8080/"
        },
        "id": "lZzEUhnv8n3Y",
        "outputId": "e3395ae4-b6df-4c9e-fa68-52157076b205"
      },
      "execution_count": 124,
      "outputs": [
        {
          "output_type": "execute_result",
          "data": {
            "text/plain": [
              "((50, 5), (50,), (100, 5), (100,))"
            ]
          },
          "metadata": {},
          "execution_count": 124
        }
      ]
    },
    {
      "cell_type": "code",
      "source": [
        "from sklearn.model_selection import train_test_split\n",
        "c1_x_train, c1_x_test, c1_y_train, c1_y_test = train_test_split(c1_x, c1_y, test_size = .1, random_state = 32)\n",
        "c2_x_train, c2_x_test, c2_y_train, c2_y_test = train_test_split(c2_x, c2_y, test_size = .2, random_state = 32)\n",
        "\n",
        "print(c1_x_train.shape, c1_x_test.shape, c1_y_train.shape, c1_y_test.shape)\n",
        "c2_x_train.shape, c2_x_test.shape, c2_y_train.shape, c2_y_test.shape"
      ],
      "metadata": {
        "colab": {
          "base_uri": "https://localhost:8080/"
        },
        "id": "a94-_wg09Jox",
        "outputId": "7200221c-7d8b-4451-e56e-e131dde3da92"
      },
      "execution_count": 125,
      "outputs": [
        {
          "output_type": "stream",
          "name": "stdout",
          "text": [
            "(45, 5) (5, 5) (45,) (5,)\n"
          ]
        },
        {
          "output_type": "execute_result",
          "data": {
            "text/plain": [
              "((80, 5), (20, 5), (80,), (20,))"
            ]
          },
          "metadata": {},
          "execution_count": 125
        }
      ]
    },
    {
      "cell_type": "code",
      "source": [
        "X_train = np.concatenate((c1_x_train, c2_x_train))\n",
        "y_train = np.concatenate((c1_y_train, c2_y_train))\n",
        "X_test = np.concatenate((c1_x_test, c2_x_test))\n",
        "y_test = np.concatenate((c1_y_test, c2_y_test))\n",
        "\n",
        "X_train.shape, y_train.shape, X_test.shape, y_test.shape"
      ],
      "metadata": {
        "colab": {
          "base_uri": "https://localhost:8080/"
        },
        "id": "f8_qM_Jn-Ag3",
        "outputId": "812053d8-feb5-49ce-85ca-91bf98c6014d"
      },
      "execution_count": 126,
      "outputs": [
        {
          "output_type": "execute_result",
          "data": {
            "text/plain": [
              "((125, 5), (125,), (25, 5), (25,))"
            ]
          },
          "metadata": {},
          "execution_count": 126
        }
      ]
    },
    {
      "cell_type": "code",
      "source": [
        "def find_best_fit(X, Y):\n",
        "    # Applying the normal equation\n",
        "    best_fit = np.linalg.inv(X.T.dot(X)).dot(X.T).dot(Y)\n",
        "    return best_fit  # Returning W"
      ],
      "metadata": {
        "id": "Myh1IpYf-mDd"
      },
      "execution_count": 127,
      "outputs": []
    },
    {
      "cell_type": "code",
      "source": [
        "def accuracy(y_test, y_pred):\n",
        "  return np.sum(y_test == y_pred) / len(y_test)"
      ],
      "metadata": {
        "id": "pLI-fiqS_s3A"
      },
      "execution_count": 128,
      "outputs": []
    },
    {
      "cell_type": "code",
      "source": [
        "def evaluate(y_pred):\n",
        "  y_pred[y_pred >= 0] = 1\n",
        "  y_pred[y_pred < 0] = -1\n",
        "  return y_pred\n",
        ""
      ],
      "metadata": {
        "id": "RMKNh73YCXID"
      },
      "execution_count": 129,
      "outputs": []
    },
    {
      "cell_type": "code",
      "source": [
        "W = find_best_fit(X_train, y_train)\n",
        "W = W.reshape(-1, 1)\n",
        "y_pred = np.dot(X_test, W)\n",
        "\n",
        "y_pred = evaluate(y_pred)\n",
        "y_pred = np.array(y_pred).reshape(-1)\n",
        "\n",
        "accuracy(y_pred, y_test)\n"
      ],
      "metadata": {
        "colab": {
          "base_uri": "https://localhost:8080/"
        },
        "id": "Gz8Gk1ED_VPF",
        "outputId": "1a6068fe-9eb4-4285-e694-845aa343489d"
      },
      "execution_count": 130,
      "outputs": [
        {
          "output_type": "execute_result",
          "data": {
            "text/plain": [
              "1.0"
            ]
          },
          "metadata": {},
          "execution_count": 130
        }
      ]
    },
    {
      "cell_type": "code",
      "source": [],
      "metadata": {
        "id": "NKVk5qUV_bzG"
      },
      "execution_count": 130,
      "outputs": []
    }
  ]
}